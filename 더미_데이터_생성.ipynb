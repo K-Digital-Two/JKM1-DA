{
  "nbformat": 4,
  "nbformat_minor": 0,
  "metadata": {
    "colab": {
      "provenance": []
    },
    "kernelspec": {
      "name": "python3",
      "display_name": "Python 3"
    },
    "language_info": {
      "name": "python"
    }
  },
  "cells": [
    {
      "cell_type": "markdown",
      "source": [
        "schedule table"
      ],
      "metadata": {
        "id": "LCisdknIRSNS"
      }
    },
    {
      "cell_type": "code",
      "execution_count": 3,
      "metadata": {
        "id": "5Au5J8UpRAz2"
      },
      "outputs": [],
      "source": [
        "import random\n",
        "\n",
        "## 선박 MMSI 리스트\n",
        "shiplist = [\"44012345\", \"44012346\", \"44012347\", \"44012348\", \"44012349\", \"44012350\", \"44012351\"]\n",
        "\n",
        "## 도착항 리스트\n",
        "p = \"인천항\"\n",
        "\n",
        "## 출발항 리스트\n",
        "depart = [\"부산항\", \"목포항\", \"제주항\", \"울산항\"]\n",
        "\n",
        "## 출발시각 리스트\n",
        "departT = []\n",
        "\n",
        "for i in range(0, len(shiplist)) :\n",
        "  h = str(random.randint(00, 23))\n",
        "  m = str(random.randint(00, 59))\n",
        "  s = str(random.randint(00, 59))\n",
        "  if len(h) != 2 :\n",
        "    h = \"0\"+h\n",
        "  if len(m) != 2 :\n",
        "    m = \"0\"+m\n",
        "  if len(s) != 2 :\n",
        "    s = \"0\"+s\n",
        "  t = \"2023-01-17 \"+ h + \":\" + m + \":\" + s\n",
        "  departT.append(t)"
      ]
    },
    {
      "cell_type": "code",
      "source": [
        "## SQL insert문\n",
        "for i in range(0, len(shiplist)) :\n",
        "  print(\"insert into schedule values (\" + shiplist[i] + \", '\" + p + \"'\" + \", '\" + random.choice(depart)+\"' ,\" + \"'\" + random.choice(departT) + \"');\")"
      ],
      "metadata": {
        "colab": {
          "base_uri": "https://localhost:8080/"
        },
        "id": "Kz8F13wrRH2N",
        "outputId": "70df7fa6-374f-4021-a392-6914599848f5"
      },
      "execution_count": 4,
      "outputs": [
        {
          "output_type": "stream",
          "name": "stdout",
          "text": [
            "insert into schedule values (44012345, '인천항', '목포항' ,'2023-01-17 01:08:05');\n",
            "insert into schedule values (44012346, '인천항', '목포항' ,'2023-01-17 06:54:34');\n",
            "insert into schedule values (44012347, '인천항', '울산항' ,'2023-01-17 01:07:47');\n",
            "insert into schedule values (44012348, '인천항', '울산항' ,'2023-01-17 22:46:53');\n",
            "insert into schedule values (44012349, '인천항', '목포항' ,'2023-01-17 01:08:05');\n",
            "insert into schedule values (44012350, '인천항', '울산항' ,'2023-01-17 10:52:33');\n",
            "insert into schedule values (44012351, '인천항', '울산항' ,'2023-01-17 01:08:05');\n"
          ]
        }
      ]
    },
    {
      "cell_type": "markdown",
      "source": [
        "info table"
      ],
      "metadata": {
        "id": "bWKn-YxWRpCz"
      }
    },
    {
      "cell_type": "code",
      "source": [
        "from datetime import datetime\n",
        "\n",
        "now = str(datetime.now())\n",
        "\n",
        "realtime = now[:-7]\n",
        "\n",
        "## 선박 현재 위도\n",
        "shiplat = []\n",
        "\n",
        "## 선박 현재 경도\n",
        "shiplon = []\n",
        "\n",
        "## 선박 속도\n",
        "speed = []\n",
        "\n",
        "## 소요시간\n",
        "takeTime = []\n",
        "\n",
        "## 정확도\n",
        "accuracy = []\n",
        "\n",
        "for i in range(0, len(shiplist)) :\n",
        "  shiplat.append(str(random.uniform(37.442099, 37.459896)))\n",
        "  shiplon.append(str(random.uniform(126.615739, 126.63643)))\n",
        "  speed.append(str(random.uniform(0, 18)))\n",
        "  takeTime.append(str(random.randint(60, 150)))\n",
        "  accuracy.append(str(random.uniform(0, 100)))\n",
        "\n",
        "\n",
        "## 도착시각\n",
        "arrT = []\n",
        "\n",
        "for i in range(0, len(shiplist)) :\n",
        "  h = str(random.randint(00, 23))\n",
        "  m = str(random.randint(00, 59))\n",
        "  s = str(random.randint(00, 59))\n",
        "  if len(h) != 2 :\n",
        "    h = \"0\"+h\n",
        "  if len(m) != 2 :\n",
        "    m = \"0\"+m\n",
        "  if len(s) != 2 :\n",
        "    s = \"0\"+s\n",
        "  t = \"2023-01-19 \"+ h + \":\" + m + \":\" + s\n",
        "  arrT.append(t)"
      ],
      "metadata": {
        "id": "RAAgyijyRoj1"
      },
      "execution_count": 6,
      "outputs": []
    },
    {
      "cell_type": "code",
      "source": [
        "## SQL insert문\n",
        "for i in range(0, len(shiplist)) :\n",
        "  print(\"insert into info values (\" + shiplist[i] + \", '\" + realtime + \"'\" + \",\" + \n",
        "        shiplat[i]+ \", \" + shiplon[i] +\", \" + speed[i] + \", \" +\"'\" + arrT[i] + \"',\" + takeTime[i] +\", \" + accuracy[i] + \");\")"
      ],
      "metadata": {
        "colab": {
          "base_uri": "https://localhost:8080/"
        },
        "id": "Jc0uy_hQSEpv",
        "outputId": "a65aafc9-74b6-4b90-84ca-07996530c9e5"
      },
      "execution_count": 7,
      "outputs": [
        {
          "output_type": "stream",
          "name": "stdout",
          "text": [
            "insert into info values (44012345, '2023-01-18 09:50:20',37.45273445053675, 126.6191723377454, 14.250570889890469, '2023-01-19 11:05:35',65, 77.42855719895645);\n",
            "insert into info values (44012346, '2023-01-18 09:50:20',37.4558626984602, 126.61693578679957, 2.350678376013433, '2023-01-19 20:31:31',120, 4.037475675765656);\n",
            "insert into info values (44012347, '2023-01-18 09:50:20',37.45768867175162, 126.6346684368471, 11.121242949544241, '2023-01-19 21:15:03',150, 32.11889834479745);\n",
            "insert into info values (44012348, '2023-01-18 09:50:20',37.45368331196004, 126.62524133330695, 6.524355241037123, '2023-01-19 14:47:39',66, 0.0005079185289469379);\n",
            "insert into info values (44012349, '2023-01-18 09:50:20',37.44659751189192, 126.61799785805545, 11.755468236852456, '2023-01-19 20:01:12',136, 12.37547513264905);\n",
            "insert into info values (44012350, '2023-01-18 09:50:20',37.44333741381511, 126.63461061322194, 6.02643007979347, '2023-01-19 14:41:19',109, 79.72384782097988);\n",
            "insert into info values (44012351, '2023-01-18 09:50:20',37.44629514112533, 126.6333420360422, 0.2344242422118088, '2023-01-19 11:40:43',73, 36.847950502717495);\n"
          ]
        }
      ]
    }
  ]
}