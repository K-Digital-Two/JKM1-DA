{
  "cells": [
    {
      "cell_type": "markdown",
      "metadata": {
        "id": "LCisdknIRSNS"
      },
      "source": [
        "schedule table"
      ]
    },
    {
      "cell_type": "code",
      "execution_count": 1,
      "metadata": {
        "id": "5Au5J8UpRAz2"
      },
      "outputs": [],
      "source": [
        "import random\n",
        "\n",
        "## 선박 MMSI 리스트\n",
        "shiplist = [\"44012345\", \"44012346\", \"44012347\", \"44012348\", \"44012349\", \"44012350\", \"44012351\"]\n",
        "\n",
        "## 도착항 리스트\n",
        "p = \"인천항\"\n",
        "\n",
        "## 출발항 리스트\n",
        "depart = [\"부산항\", \"목포항\", \"제주항\", \"울산항\"]\n",
        "\n",
        "## 출발시각 리스트\n",
        "departT = []\n",
        "\n",
        "for i in range(0, len(shiplist)) :\n",
        "  h = str(random.randint(00, 23))\n",
        "  m = str(random.randint(00, 59))\n",
        "  s = str(random.randint(00, 59))\n",
        "  if len(h) != 2 :\n",
        "    h = \"0\"+h\n",
        "  if len(m) != 2 :\n",
        "    m = \"0\"+m\n",
        "  if len(s) != 2 :\n",
        "    s = \"0\"+s\n",
        "  t = \"2023-01-17 \"+ h + \":\" + m + \":\" + s\n",
        "  departT.append(t)"
      ]
    },
    {
      "cell_type": "code",
      "execution_count": 4,
      "metadata": {
        "colab": {
          "base_uri": "https://localhost:8080/"
        },
        "id": "Kz8F13wrRH2N",
        "outputId": "70df7fa6-374f-4021-a392-6914599848f5"
      },
      "outputs": [
        {
          "name": "stdout",
          "output_type": "stream",
          "text": [
            "insert into schedule values (44012345, '인천항', '목포항' ,'2023-01-17 01:08:05');\n",
            "insert into schedule values (44012346, '인천항', '목포항' ,'2023-01-17 06:54:34');\n",
            "insert into schedule values (44012347, '인천항', '울산항' ,'2023-01-17 01:07:47');\n",
            "insert into schedule values (44012348, '인천항', '울산항' ,'2023-01-17 22:46:53');\n",
            "insert into schedule values (44012349, '인천항', '목포항' ,'2023-01-17 01:08:05');\n",
            "insert into schedule values (44012350, '인천항', '울산항' ,'2023-01-17 10:52:33');\n",
            "insert into schedule values (44012351, '인천항', '울산항' ,'2023-01-17 01:08:05');\n"
          ]
        }
      ],
      "source": [
        "## SQL insert문\n",
        "for i in range(0, len(shiplist)) :\n",
        "  print(\"insert into schedule values (\" + shiplist[i] + \", '\" + p + \"'\" + \", '\" + random.choice(depart)+\"' ,\" + \"'\" + random.choice(departT) + \"');\")"
      ]
    },
    {
      "cell_type": "markdown",
      "metadata": {
        "id": "bWKn-YxWRpCz"
      },
      "source": [
        "info table"
      ]
    },
    {
      "cell_type": "code",
      "execution_count": 13,
      "metadata": {
        "id": "RAAgyijyRoj1"
      },
      "outputs": [],
      "source": [
        "from datetime import datetime\n",
        "\n",
        "now = str(datetime.now())\n",
        "\n",
        "realtime = now[:-7]\n",
        "\n",
        "## 선박 현재 위도\n",
        "shiplat = []\n",
        "\n",
        "## 선박 현재 경도\n",
        "shiplon = []\n",
        "\n",
        "## 선박 속도\n",
        "speed = []\n",
        "\n",
        "## 소요시간\n",
        "takeTime = []\n",
        "\n",
        "## 정확도\n",
        "accuracy = []\n",
        "\n",
        "for i in range(0, len(shiplist)) :\n",
        "  shiplat.append(str(round(random.uniform(37, 37.5), 2)))\n",
        "  shiplon.append(str(round(random.uniform(125.5, 126.3),2)))\n",
        "  speed.append(str(round(random.uniform(0, 18),2)))\n",
        "  takeTime.append(str(round(random.randint(60, 150),2)))\n",
        "  accuracy.append(str(round(random.uniform(0, 100),2)))\n",
        "\n",
        "\n",
        "## 도착시각\n",
        "arrT = []\n",
        "\n",
        "for i in range(0, len(shiplist)) :\n",
        "  h = str(random.randint(00, 23))\n",
        "  m = str(random.randint(00, 59))\n",
        "  s = str(random.randint(00, 59))\n",
        "  if len(h) != 2 :\n",
        "    h = \"0\"+h\n",
        "  if len(m) != 2 :\n",
        "    m = \"0\"+m\n",
        "  if len(s) != 2 :\n",
        "    s = \"0\"+s\n",
        "  t = \"2023-01-19 \"+ h + \":\" + m + \":\" + s\n",
        "  arrT.append(t)"
      ]
    },
    {
      "cell_type": "code",
      "execution_count": 14,
      "metadata": {
        "colab": {
          "base_uri": "https://localhost:8080/"
        },
        "id": "Jc0uy_hQSEpv",
        "outputId": "a65aafc9-74b6-4b90-84ca-07996530c9e5"
      },
      "outputs": [
        {
          "name": "stdout",
          "output_type": "stream",
          "text": [
            "insert into info values (44012345, '2023-01-19 15:03:41',37.14, 125.95, 8.27, '2023-01-19 15:25:15',136, 72.61);\n",
            "insert into info values (44012346, '2023-01-19 15:03:41',37.2, 126.02, 3.33, '2023-01-19 13:15:19',130, 24.46);\n",
            "insert into info values (44012347, '2023-01-19 15:03:41',37.29, 125.68, 3.26, '2023-01-19 12:00:10',94, 0.61);\n",
            "insert into info values (44012348, '2023-01-19 15:03:41',37.31, 125.8, 2.66, '2023-01-19 05:40:18',90, 86.11);\n",
            "insert into info values (44012349, '2023-01-19 15:03:41',37.31, 125.55, 15.97, '2023-01-19 21:03:56',83, 30.52);\n",
            "insert into info values (44012350, '2023-01-19 15:03:41',37.05, 126.21, 4.93, '2023-01-19 06:43:58',60, 10.87);\n",
            "insert into info values (44012351, '2023-01-19 15:03:41',37.15, 125.99, 7.96, '2023-01-19 12:20:27',76, 31.2);\n"
          ]
        }
      ],
      "source": [
        "## SQL insert문\n",
        "for i in range(0, len(shiplist)) :\n",
        "  print(\"insert into info values (\" + shiplist[i] + \", '\" + realtime + \"'\" + \",\" + \n",
        "        shiplat[i]+ \", \" + shiplon[i] +\", \" + speed[i] + \", \" +\"'\" + arrT[i] + \"',\" + takeTime[i] +\", \" + accuracy[i] + \");\")"
      ]
    }
  ],
  "metadata": {
    "colab": {
      "provenance": []
    },
    "kernelspec": {
      "display_name": "Python 3",
      "language": "python",
      "name": "python3"
    },
    "language_info": {
      "codemirror_mode": {
        "name": "ipython",
        "version": 3
      },
      "file_extension": ".py",
      "mimetype": "text/x-python",
      "name": "python",
      "nbconvert_exporter": "python",
      "pygments_lexer": "ipython3",
      "version": "3.11.0"
    },
    "vscode": {
      "interpreter": {
        "hash": "c261aea317cc0286b3b3261fbba9abdec21eaa57589985bb7a274bf54d6cc0a7"
      }
    }
  },
  "nbformat": 4,
  "nbformat_minor": 0
}
