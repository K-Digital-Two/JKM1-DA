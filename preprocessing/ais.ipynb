{
 "cells": [
  {
   "attachments": {},
   "cell_type": "markdown",
   "metadata": {},
   "source": [
    "### 1. ais 텍스트 파일 csv로 저장\n",
    "- df_ais"
   ]
  },
  {
   "cell_type": "code",
   "execution_count": 2,
   "metadata": {},
   "outputs": [],
   "source": [
    "import os\n",
    "PATH = 'C:/Users/user/DataPreprocessing/ModelingDataset/data'\n",
    "os.chdir(PATH)"
   ]
  },
  {
   "cell_type": "code",
   "execution_count": 3,
   "metadata": {},
   "outputs": [],
   "source": [
    "import random\n",
    "import pandas as pd\n",
    "import numpy as np\n",
    "import datetime\n",
    "import pymysql"
   ]
  },
  {
   "cell_type": "code",
   "execution_count": 4,
   "metadata": {},
   "outputs": [],
   "source": [
    "host = 'localhost'\n",
    "db = 'eta'\n",
    "user = 'root'\n",
    "password = 'tiger'"
   ]
  },
  {
   "cell_type": "code",
   "execution_count": 5,
   "metadata": {},
   "outputs": [
    {
     "ename": "RuntimeError",
     "evalue": "'cryptography' package is required for sha256_password or caching_sha2_password auth methods",
     "output_type": "error",
     "traceback": [
      "\u001b[1;31m---------------------------------------------------------------------------\u001b[0m",
      "\u001b[1;31mRuntimeError\u001b[0m                              Traceback (most recent call last)",
      "Cell \u001b[1;32mIn[5], line 43\u001b[0m\n\u001b[0;32m     39\u001b[0m         list_schedulesData\u001b[39m.\u001b[39mappend(data)\n\u001b[0;32m     41\u001b[0m     \u001b[39mreturn\u001b[39;00m list_schedulesData\n\u001b[1;32m---> 43\u001b[0m input_db()\n",
      "Cell \u001b[1;32mIn[5], line 2\u001b[0m, in \u001b[0;36minput_db\u001b[1;34m()\u001b[0m\n\u001b[0;32m      1\u001b[0m \u001b[39mdef\u001b[39;00m \u001b[39minput_db\u001b[39m():\n\u001b[1;32m----> 2\u001b[0m     conn \u001b[39m=\u001b[39m pymysql\u001b[39m.\u001b[39;49mconnect(host\u001b[39m=\u001b[39;49mhost, database\u001b[39m=\u001b[39;49mdb, user\u001b[39m=\u001b[39;49muser, password\u001b[39m=\u001b[39;49mpassword)\n\u001b[0;32m      4\u001b[0m     \u001b[39mtry\u001b[39;00m:\n\u001b[0;32m      5\u001b[0m         \u001b[39mwith\u001b[39;00m conn\u001b[39m.\u001b[39mcursor() \u001b[39mas\u001b[39;00m cursor:\n",
      "File \u001b[1;32m~\\AppData\\Roaming\\Python\\Python38\\site-packages\\pymysql\\connections.py:353\u001b[0m, in \u001b[0;36mConnection.__init__\u001b[1;34m(self, user, password, host, database, unix_socket, port, charset, sql_mode, read_default_file, conv, use_unicode, client_flag, cursorclass, init_command, connect_timeout, read_default_group, autocommit, local_infile, max_allowed_packet, defer_connect, auth_plugin_map, read_timeout, write_timeout, bind_address, binary_prefix, program_name, server_public_key, ssl, ssl_ca, ssl_cert, ssl_disabled, ssl_key, ssl_verify_cert, ssl_verify_identity, compress, named_pipe, passwd, db)\u001b[0m\n\u001b[0;32m    351\u001b[0m     \u001b[39mself\u001b[39m\u001b[39m.\u001b[39m_sock \u001b[39m=\u001b[39m \u001b[39mNone\u001b[39;00m\n\u001b[0;32m    352\u001b[0m \u001b[39melse\u001b[39;00m:\n\u001b[1;32m--> 353\u001b[0m     \u001b[39mself\u001b[39;49m\u001b[39m.\u001b[39;49mconnect()\n",
      "File \u001b[1;32m~\\AppData\\Roaming\\Python\\Python38\\site-packages\\pymysql\\connections.py:633\u001b[0m, in \u001b[0;36mConnection.connect\u001b[1;34m(self, sock)\u001b[0m\n\u001b[0;32m    630\u001b[0m \u001b[39mself\u001b[39m\u001b[39m.\u001b[39m_next_seq_id \u001b[39m=\u001b[39m \u001b[39m0\u001b[39m\n\u001b[0;32m    632\u001b[0m \u001b[39mself\u001b[39m\u001b[39m.\u001b[39m_get_server_information()\n\u001b[1;32m--> 633\u001b[0m \u001b[39mself\u001b[39;49m\u001b[39m.\u001b[39;49m_request_authentication()\n\u001b[0;32m    635\u001b[0m \u001b[39mif\u001b[39;00m \u001b[39mself\u001b[39m\u001b[39m.\u001b[39msql_mode \u001b[39mis\u001b[39;00m \u001b[39mnot\u001b[39;00m \u001b[39mNone\u001b[39;00m:\n\u001b[0;32m    636\u001b[0m     c \u001b[39m=\u001b[39m \u001b[39mself\u001b[39m\u001b[39m.\u001b[39mcursor()\n",
      "File \u001b[1;32m~\\AppData\\Roaming\\Python\\Python38\\site-packages\\pymysql\\connections.py:932\u001b[0m, in \u001b[0;36mConnection._request_authentication\u001b[1;34m(self)\u001b[0m\n\u001b[0;32m    930\u001b[0m \u001b[39m# https://dev.mysql.com/doc/internals/en/successful-authentication.html\u001b[39;00m\n\u001b[0;32m    931\u001b[0m \u001b[39mif\u001b[39;00m \u001b[39mself\u001b[39m\u001b[39m.\u001b[39m_auth_plugin_name \u001b[39m==\u001b[39m \u001b[39m\"\u001b[39m\u001b[39mcaching_sha2_password\u001b[39m\u001b[39m\"\u001b[39m:\n\u001b[1;32m--> 932\u001b[0m     auth_packet \u001b[39m=\u001b[39m _auth\u001b[39m.\u001b[39;49mcaching_sha2_password_auth(\u001b[39mself\u001b[39;49m, auth_packet)\n\u001b[0;32m    933\u001b[0m \u001b[39melif\u001b[39;00m \u001b[39mself\u001b[39m\u001b[39m.\u001b[39m_auth_plugin_name \u001b[39m==\u001b[39m \u001b[39m\"\u001b[39m\u001b[39msha256_password\u001b[39m\u001b[39m\"\u001b[39m:\n\u001b[0;32m    934\u001b[0m     auth_packet \u001b[39m=\u001b[39m _auth\u001b[39m.\u001b[39msha256_password_auth(\u001b[39mself\u001b[39m, auth_packet)\n",
      "File \u001b[1;32m~\\AppData\\Roaming\\Python\\Python38\\site-packages\\pymysql\\_auth.py:265\u001b[0m, in \u001b[0;36mcaching_sha2_password_auth\u001b[1;34m(conn, pkt)\u001b[0m\n\u001b[0;32m    262\u001b[0m     \u001b[39mif\u001b[39;00m DEBUG:\n\u001b[0;32m    263\u001b[0m         \u001b[39mprint\u001b[39m(conn\u001b[39m.\u001b[39mserver_public_key\u001b[39m.\u001b[39mdecode(\u001b[39m\"\u001b[39m\u001b[39mascii\u001b[39m\u001b[39m\"\u001b[39m))\n\u001b[1;32m--> 265\u001b[0m data \u001b[39m=\u001b[39m sha2_rsa_encrypt(conn\u001b[39m.\u001b[39;49mpassword, conn\u001b[39m.\u001b[39;49msalt, conn\u001b[39m.\u001b[39;49mserver_public_key)\n\u001b[0;32m    266\u001b[0m pkt \u001b[39m=\u001b[39m _roundtrip(conn, data)\n",
      "File \u001b[1;32m~\\AppData\\Roaming\\Python\\Python38\\site-packages\\pymysql\\_auth.py:143\u001b[0m, in \u001b[0;36msha2_rsa_encrypt\u001b[1;34m(password, salt, public_key)\u001b[0m\n\u001b[0;32m    138\u001b[0m \u001b[39m\u001b[39m\u001b[39m\"\"\"Encrypt password with salt and public_key.\u001b[39;00m\n\u001b[0;32m    139\u001b[0m \n\u001b[0;32m    140\u001b[0m \u001b[39mUsed for sha256_password and caching_sha2_password.\u001b[39;00m\n\u001b[0;32m    141\u001b[0m \u001b[39m\"\"\"\u001b[39;00m\n\u001b[0;32m    142\u001b[0m \u001b[39mif\u001b[39;00m \u001b[39mnot\u001b[39;00m _have_cryptography:\n\u001b[1;32m--> 143\u001b[0m     \u001b[39mraise\u001b[39;00m \u001b[39mRuntimeError\u001b[39;00m(\n\u001b[0;32m    144\u001b[0m         \u001b[39m\"\u001b[39m\u001b[39m'\u001b[39m\u001b[39mcryptography\u001b[39m\u001b[39m'\u001b[39m\u001b[39m package is required for sha256_password or caching_sha2_password auth methods\u001b[39m\u001b[39m\"\u001b[39m\n\u001b[0;32m    145\u001b[0m     )\n\u001b[0;32m    146\u001b[0m message \u001b[39m=\u001b[39m _xor_password(password \u001b[39m+\u001b[39m \u001b[39mb\u001b[39m\u001b[39m\"\u001b[39m\u001b[39m\\0\u001b[39;00m\u001b[39m\"\u001b[39m, salt)\n\u001b[0;32m    147\u001b[0m rsa_key \u001b[39m=\u001b[39m serialization\u001b[39m.\u001b[39mload_pem_public_key(public_key, default_backend())\n",
      "\u001b[1;31mRuntimeError\u001b[0m: 'cryptography' package is required for sha256_password or caching_sha2_password auth methods"
     ]
    }
   ],
   "source": [
    "def input_db():\n",
    "    conn = pymysql.connect(host=host, database=db, user=user, password=password)\n",
    "\n",
    "    try:\n",
    "        with conn.cursor() as cursor:\n",
    "            sql = 'INSERT INTO ais (num, input_dt, mmsi, status, heading, course, accuracy, maneuver, second, speed, turn, msg_type, repeat_, raim, radio, lat, lon) \\\n",
    "\t\t\tVALUES (%s, %s, %s, %s, %s, %s, %s, %s, %s,%s, %s, %s, %s, %s, %s, %s, %s)'\n",
    "            list = insert_ais()\n",
    "            cursor.executemany(sql, list)\n",
    "        conn.commit()\n",
    "        \n",
    "    finally:\n",
    "        conn.close()\n",
    "\n",
    "def insert_ais():\n",
    "    df_ais = pd.read_csv('./ais_txt/ais_data_221130_221230.txt', sep=\"\\t\")\n",
    "\n",
    "    input_dt = df_ais.loc[:,\"input_dt\"].to_list()\n",
    "    mmsi = df_ais.loc[:,\"mmsi\"].to_list()\n",
    "    status = df_ais.loc[:,\"status\"].to_list()\n",
    "    heading = df_ais.loc[:,\"heading\"].to_list()\n",
    "    course = df_ais.loc[:,\"course\"].to_list()\n",
    "    accuracy = df_ais.loc[:,\"accuracy\"].to_list()\n",
    "    maneuver = df_ais.loc[:,\"maneuver\"].to_list()\n",
    "    second = df_ais.loc[:,\"second\"].to_list()\n",
    "    speed = df_ais.loc[:,\"speed\"].to_list()\n",
    "    turn = df_ais.loc[:,\"turn\"].to_list()\n",
    "    msg_type = df_ais.loc[:,\"msg_type\"].to_list()\n",
    "    repeat_ = df_ais.loc[:,\"repeat\"].to_list()\n",
    "    raim = df_ais.loc[:,\"raim\"].to_list()\n",
    "    radio = df_ais.loc[:,\"radio\"].to_list()\n",
    "    lat = df_ais.loc[:,\"lat\"].to_list()\n",
    "    lon = df_ais.loc[:,\"lon\"].to_list()\n",
    "\n",
    "    list_schedulesData = []\n",
    "    for i in range(1, len(df_ais)):\n",
    "        data = i, input_dt[i], mmsi[i], status[i], heading[i], course[i], accuracy[i], maneuver[i],\\\n",
    "        second[i], speed[i], turn[i], msg_type[i], repeat_[i], raim[i], radio[i], lat[i], lon[i]\n",
    "        list_schedulesData.append(data)\n",
    "\n",
    "    return list_schedulesData\n",
    "\n",
    "input_db()"
   ]
  },
  {
   "cell_type": "code",
   "execution_count": null,
   "metadata": {},
   "outputs": [],
   "source": [
    "def ais_data():\n",
    "    # txt 파일을 dataframe으로 부르기\n",
    "    df_ais = pd.read_csv('./ais_txt/ais_data_221130_221230.txt', sep=\"\\t\")\n",
    "    # 필요한 컬럼만 추출\n",
    "    df_ais = df_ais[['input_dt', 'mmsi', 'speed', 'lat', 'lon']]\n",
    "\n",
    "    return df_ais"
   ]
  },
  {
   "cell_type": "code",
   "execution_count": null,
   "metadata": {},
   "outputs": [],
   "source": [
    "# csv 파일로 저장 \n",
    "# save_ais =  ais_data().to_csv('./ais.csv')"
   ]
  },
  {
   "attachments": {},
   "cell_type": "markdown",
   "metadata": {},
   "source": [
    "### 2. schedules(인천항 입항 선박) 기준으로 ais 데이터 걸러내기"
   ]
  },
  {
   "cell_type": "code",
   "execution_count": null,
   "metadata": {},
   "outputs": [],
   "source": [
    "def schedules():\n",
    "    ais = ais_data()\n",
    "    df_schedules = pd.read_csv('./schedules.csv',sep=',', encoding = 'cp949' ,index_col = 0)\n",
    "\n",
    "    # schedules에 있는 ship을 list로 추출\n",
    "    shipList = list(df_schedules['mmsi'].astype(int))\n",
    "\n",
    "    # shipList에 있는 선박 기준으로 ais데이터 걸러내기\n",
    "    shiplog = ais[ais['mmsi'].isin(shipList)].reset_index(drop=True)\n",
    "\n",
    "    # 컬럼명 변경\n",
    "    shiplog.columns = [\"insertTime\", 'mmsi', 'speed', 'shipLat', 'shipLon']\n",
    "\n",
    "    return shiplog"
   ]
  },
  {
   "cell_type": "code",
   "execution_count": null,
   "metadata": {},
   "outputs": [
    {
     "ename": "NameError",
     "evalue": "name 'schedules' is not defined",
     "output_type": "error",
     "traceback": [
      "\u001b[1;31m---------------------------------------------------------------------------\u001b[0m",
      "\u001b[1;31mNameError\u001b[0m                                 Traceback (most recent call last)",
      "Cell \u001b[1;32mIn[1], line 1\u001b[0m\n\u001b[1;32m----> 1\u001b[0m schedules()\n",
      "\u001b[1;31mNameError\u001b[0m: name 'schedules' is not defined"
     ]
    }
   ],
   "source": [
    "schedules()"
   ]
  },
  {
   "cell_type": "code",
   "execution_count": null,
   "metadata": {},
   "outputs": [],
   "source": [
    "# 결과를 shiplog.csv로 저장\n",
    "schedules().to_csv('./shiplog.csv')"
   ]
  }
 ],
 "metadata": {
  "kernelspec": {
   "display_name": "pythonProject",
   "language": "python",
   "name": "python3"
  },
  "language_info": {
   "codemirror_mode": {
    "name": "ipython",
    "version": 3
   },
   "file_extension": ".py",
   "mimetype": "text/x-python",
   "name": "python",
   "nbconvert_exporter": "python",
   "pygments_lexer": "ipython3",
   "version": "3.8.15"
  },
  "orig_nbformat": 4,
  "vscode": {
   "interpreter": {
    "hash": "1442c6260c14c68d455923fc6d204cf54d00e78df449ad95b0149cb891ac4f64"
   }
  }
 },
 "nbformat": 4,
 "nbformat_minor": 2
}
